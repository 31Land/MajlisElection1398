{
 "cells": [
  {
   "cell_type": "markdown",
   "metadata": {},
   "source": [
    "### <span style=\"color:darkred\"> $T$ Distribution Election 94 vs. Election 98</span>"
   ]
  },
  {
   "cell_type": "code",
   "execution_count": 12,
   "metadata": {},
   "outputs": [],
   "source": [
    "import numpy as np\n",
    "import scipy.stats as stats\n",
    "import seaborn as sns\n",
    "import matplotlib.pyplot as plt\n",
    "import pandas as pd\n",
    "import imp\n",
    "\n",
    "sns.set_style('whitegrid')\n",
    "\n",
    "%config InlineBackend.figure_format = 'retina'\n",
    "%matplotlib inline"
   ]
  },
  {
   "cell_type": "code",
   "execution_count": 13,
   "metadata": {
    "scrolled": true
   },
   "outputs": [
    {
     "data": {
      "text/html": [
       "<div>\n",
       "<style scoped>\n",
       "    .dataframe tbody tr th:only-of-type {\n",
       "        vertical-align: middle;\n",
       "    }\n",
       "\n",
       "    .dataframe tbody tr th {\n",
       "        vertical-align: top;\n",
       "    }\n",
       "\n",
       "    .dataframe thead th {\n",
       "        text-align: right;\n",
       "    }\n",
       "</style>\n",
       "<table border=\"1\" class=\"dataframe\">\n",
       "  <thead>\n",
       "    <tr style=\"text-align: right;\">\n",
       "      <th></th>\n",
       "      <th>Province</th>\n",
       "      <th>CongressionalDistrict_Number</th>\n",
       "      <th>E94_Support_by_ListeOmid</th>\n",
       "      <th>E98_94_VoteCorrectCompare</th>\n",
       "      <th>Protest98_CD</th>\n",
       "      <th>Protest98_Violence_CD</th>\n",
       "    </tr>\n",
       "  </thead>\n",
       "  <tbody>\n",
       "    <tr>\n",
       "      <td>0</td>\n",
       "      <td>Azarbayejan-e- Sharghi</td>\n",
       "      <td>1</td>\n",
       "      <td>Yes</td>\n",
       "      <td>1.00</td>\n",
       "      <td>Yes</td>\n",
       "      <td>No</td>\n",
       "    </tr>\n",
       "    <tr>\n",
       "      <td>1</td>\n",
       "      <td>Azarbayejan-e- Sharghi</td>\n",
       "      <td>2</td>\n",
       "      <td>No</td>\n",
       "      <td>0.74</td>\n",
       "      <td>No</td>\n",
       "      <td>No</td>\n",
       "    </tr>\n",
       "    <tr>\n",
       "      <td>2</td>\n",
       "      <td>Azarbayejan-e- Sharghi</td>\n",
       "      <td>3</td>\n",
       "      <td>No</td>\n",
       "      <td>0.71</td>\n",
       "      <td>No</td>\n",
       "      <td>No</td>\n",
       "    </tr>\n",
       "    <tr>\n",
       "      <td>3</td>\n",
       "      <td>Azarbayejan-e- Sharghi</td>\n",
       "      <td>4</td>\n",
       "      <td>Yes</td>\n",
       "      <td>0.50</td>\n",
       "      <td>Yes</td>\n",
       "      <td>Yes</td>\n",
       "    </tr>\n",
       "    <tr>\n",
       "      <td>4</td>\n",
       "      <td>Azarbayejan-e- Sharghi</td>\n",
       "      <td>5</td>\n",
       "      <td>No</td>\n",
       "      <td>0.84</td>\n",
       "      <td>No</td>\n",
       "      <td>No</td>\n",
       "    </tr>\n",
       "    <tr>\n",
       "      <td>5</td>\n",
       "      <td>Azarbayejan-e- Sharghi</td>\n",
       "      <td>6</td>\n",
       "      <td>Yes</td>\n",
       "      <td>0.64</td>\n",
       "      <td>No</td>\n",
       "      <td>No</td>\n",
       "    </tr>\n",
       "    <tr>\n",
       "      <td>6</td>\n",
       "      <td>Azarbayejan-e- Sharghi</td>\n",
       "      <td>7</td>\n",
       "      <td>No</td>\n",
       "      <td>0.91</td>\n",
       "      <td>No</td>\n",
       "      <td>No</td>\n",
       "    </tr>\n",
       "    <tr>\n",
       "      <td>7</td>\n",
       "      <td>Azarbayejan-e- Sharghi</td>\n",
       "      <td>8</td>\n",
       "      <td>No</td>\n",
       "      <td>0.80</td>\n",
       "      <td>Yes</td>\n",
       "      <td>No</td>\n",
       "    </tr>\n",
       "    <tr>\n",
       "      <td>8</td>\n",
       "      <td>Azarbayejan-e- Sharghi</td>\n",
       "      <td>9</td>\n",
       "      <td>No</td>\n",
       "      <td>0.76</td>\n",
       "      <td>Yes</td>\n",
       "      <td>No</td>\n",
       "    </tr>\n",
       "    <tr>\n",
       "      <td>9</td>\n",
       "      <td>Azarbayejan-e- Sharghi</td>\n",
       "      <td>10</td>\n",
       "      <td>No</td>\n",
       "      <td>0.90</td>\n",
       "      <td>No</td>\n",
       "      <td>No</td>\n",
       "    </tr>\n",
       "    <tr>\n",
       "      <td>10</td>\n",
       "      <td>Azarbayejan-e- Sharghi</td>\n",
       "      <td>11</td>\n",
       "      <td>No</td>\n",
       "      <td>0.70</td>\n",
       "      <td>No</td>\n",
       "      <td>No</td>\n",
       "    </tr>\n",
       "    <tr>\n",
       "      <td>11</td>\n",
       "      <td>Azarbayejan-e- Sharghi</td>\n",
       "      <td>12</td>\n",
       "      <td>No</td>\n",
       "      <td>0.85</td>\n",
       "      <td>No</td>\n",
       "      <td>No</td>\n",
       "    </tr>\n",
       "    <tr>\n",
       "      <td>12</td>\n",
       "      <td>Azarbayejan-e- Sharghi</td>\n",
       "      <td>13</td>\n",
       "      <td>No</td>\n",
       "      <td>0.73</td>\n",
       "      <td>No</td>\n",
       "      <td>No</td>\n",
       "    </tr>\n",
       "    <tr>\n",
       "      <td>13</td>\n",
       "      <td>Azarbayejan-e- Gharbi</td>\n",
       "      <td>14</td>\n",
       "      <td>Yes</td>\n",
       "      <td>0.77</td>\n",
       "      <td>Yes</td>\n",
       "      <td>No</td>\n",
       "    </tr>\n",
       "    <tr>\n",
       "      <td>14</td>\n",
       "      <td>Azarbayejan-e- Gharbi</td>\n",
       "      <td>15</td>\n",
       "      <td>Yes</td>\n",
       "      <td>0.45</td>\n",
       "      <td>Yes</td>\n",
       "      <td>Yes</td>\n",
       "    </tr>\n",
       "    <tr>\n",
       "      <td>15</td>\n",
       "      <td>Azarbayejan-e- Gharbi</td>\n",
       "      <td>16</td>\n",
       "      <td>No</td>\n",
       "      <td>0.62</td>\n",
       "      <td>No</td>\n",
       "      <td>No</td>\n",
       "    </tr>\n",
       "    <tr>\n",
       "      <td>16</td>\n",
       "      <td>Azarbayejan-e- Gharbi</td>\n",
       "      <td>17</td>\n",
       "      <td>No</td>\n",
       "      <td>0.76</td>\n",
       "      <td>No</td>\n",
       "      <td>No</td>\n",
       "    </tr>\n",
       "    <tr>\n",
       "      <td>17</td>\n",
       "      <td>Azarbayejan-e- Gharbi</td>\n",
       "      <td>18</td>\n",
       "      <td>Yes</td>\n",
       "      <td>0.75</td>\n",
       "      <td>No</td>\n",
       "      <td>No</td>\n",
       "    </tr>\n",
       "    <tr>\n",
       "      <td>18</td>\n",
       "      <td>Azarbayejan-e- Gharbi</td>\n",
       "      <td>19</td>\n",
       "      <td>Yes</td>\n",
       "      <td>0.89</td>\n",
       "      <td>No</td>\n",
       "      <td>No</td>\n",
       "    </tr>\n",
       "    <tr>\n",
       "      <td>19</td>\n",
       "      <td>Azarbayejan-e- Gharbi</td>\n",
       "      <td>20</td>\n",
       "      <td>No</td>\n",
       "      <td>0.58</td>\n",
       "      <td>No</td>\n",
       "      <td>No</td>\n",
       "    </tr>\n",
       "  </tbody>\n",
       "</table>\n",
       "</div>"
      ],
      "text/plain": [
       "                  Province  CongressionalDistrict_Number  \\\n",
       "0   Azarbayejan-e- Sharghi                             1   \n",
       "1   Azarbayejan-e- Sharghi                             2   \n",
       "2   Azarbayejan-e- Sharghi                             3   \n",
       "3   Azarbayejan-e- Sharghi                             4   \n",
       "4   Azarbayejan-e- Sharghi                             5   \n",
       "5   Azarbayejan-e- Sharghi                             6   \n",
       "6   Azarbayejan-e- Sharghi                             7   \n",
       "7   Azarbayejan-e- Sharghi                             8   \n",
       "8   Azarbayejan-e- Sharghi                             9   \n",
       "9   Azarbayejan-e- Sharghi                            10   \n",
       "10  Azarbayejan-e- Sharghi                            11   \n",
       "11  Azarbayejan-e- Sharghi                            12   \n",
       "12  Azarbayejan-e- Sharghi                            13   \n",
       "13   Azarbayejan-e- Gharbi                            14   \n",
       "14   Azarbayejan-e- Gharbi                            15   \n",
       "15   Azarbayejan-e- Gharbi                            16   \n",
       "16   Azarbayejan-e- Gharbi                            17   \n",
       "17   Azarbayejan-e- Gharbi                            18   \n",
       "18   Azarbayejan-e- Gharbi                            19   \n",
       "19   Azarbayejan-e- Gharbi                            20   \n",
       "\n",
       "   E94_Support_by_ListeOmid  E98_94_VoteCorrectCompare Protest98_CD  \\\n",
       "0                       Yes                       1.00          Yes   \n",
       "1                        No                       0.74           No   \n",
       "2                        No                       0.71           No   \n",
       "3                       Yes                       0.50          Yes   \n",
       "4                        No                       0.84           No   \n",
       "5                       Yes                       0.64           No   \n",
       "6                        No                       0.91           No   \n",
       "7                        No                       0.80          Yes   \n",
       "8                        No                       0.76          Yes   \n",
       "9                        No                       0.90           No   \n",
       "10                       No                       0.70           No   \n",
       "11                       No                       0.85           No   \n",
       "12                       No                       0.73           No   \n",
       "13                      Yes                       0.77          Yes   \n",
       "14                      Yes                       0.45          Yes   \n",
       "15                       No                       0.62           No   \n",
       "16                       No                       0.76           No   \n",
       "17                      Yes                       0.75           No   \n",
       "18                      Yes                       0.89           No   \n",
       "19                       No                       0.58           No   \n",
       "\n",
       "   Protest98_Violence_CD  \n",
       "0                     No  \n",
       "1                     No  \n",
       "2                     No  \n",
       "3                    Yes  \n",
       "4                     No  \n",
       "5                     No  \n",
       "6                     No  \n",
       "7                     No  \n",
       "8                     No  \n",
       "9                     No  \n",
       "10                    No  \n",
       "11                    No  \n",
       "12                    No  \n",
       "13                    No  \n",
       "14                   Yes  \n",
       "15                    No  \n",
       "16                    No  \n",
       "17                    No  \n",
       "18                    No  \n",
       "19                    No  "
      ]
     },
     "execution_count": 13,
     "metadata": {},
     "output_type": "execute_result"
    }
   ],
   "source": [
    "election98 = pd.read_csv(\"Election1398_PythonAnalysis_GitHub.csv\")\n",
    "election98.head(20)"
   ]
  },
  {
   "cell_type": "code",
   "execution_count": 15,
   "metadata": {},
   "outputs": [],
   "source": [
    "ListeOmid_Yes = (election98.loc[election98[\"E94_Support_by_ListeOmid\"] == \"Yes\"])\n",
    "ListeOmid_No = (election98.loc[election98[\"E94_Support_by_ListeOmid\"] == \"No\"])\n",
    "Protest98_Yes = (election98.loc[election98[\"Protest98_CD\"] == \"Yes\"])\n",
    "Protest98_No = (election98.loc[election98[\"Protest98_CD\"] == \"No\"])\n",
    "Violence98_Yes = (election98.loc[election98[\"Protest98_Violence_CD\"] == \"Yes\"])\n",
    "Violence98_No = (election98.loc[election98[\"Protest98_Violence_CD\"] == \"No\"])"
   ]
  },
  {
   "cell_type": "markdown",
   "metadata": {},
   "source": [
    "#### <span style=\"color:darkred\"> Liste Omid </span>"
   ]
  },
  {
   "cell_type": "code",
   "execution_count": 16,
   "metadata": {},
   "outputs": [
    {
     "data": {
      "text/plain": [
       "Ttest_indResult(statistic=-0.6444764591002613, pvalue=0.520004999455763)"
      ]
     },
     "execution_count": 16,
     "metadata": {},
     "output_type": "execute_result"
    }
   ],
   "source": [
    "stats.ttest_ind(ListeOmid_Yes.E98_94_VoteCorrectCompare.tolist(), ListeOmid_No.E98_94_VoteCorrectCompare.tolist())"
   ]
  },
  {
   "cell_type": "markdown",
   "metadata": {},
   "source": [
    "#### <span style=\"color:darkred\"> Protest 98 </span>"
   ]
  },
  {
   "cell_type": "code",
   "execution_count": 17,
   "metadata": {},
   "outputs": [
    {
     "data": {
      "text/plain": [
       "Ttest_indResult(statistic=-4.796975783695043, pvalue=3.1436279479925732e-06)"
      ]
     },
     "execution_count": 17,
     "metadata": {},
     "output_type": "execute_result"
    }
   ],
   "source": [
    "stats.ttest_ind(Protest98_Yes.E98_94_VoteCorrectCompare.tolist(), Protest98_No.E98_94_VoteCorrectCompare.tolist())"
   ]
  },
  {
   "cell_type": "markdown",
   "metadata": {},
   "source": [
    "#### <span style=\"color:darkred\"> Violence 98 </span>"
   ]
  },
  {
   "cell_type": "code",
   "execution_count": 18,
   "metadata": {},
   "outputs": [
    {
     "data": {
      "text/plain": [
       "Ttest_indResult(statistic=-6.181367177471321, pvalue=3.505864925213692e-09)"
      ]
     },
     "execution_count": 18,
     "metadata": {},
     "output_type": "execute_result"
    }
   ],
   "source": [
    "stats.ttest_ind(Violence98_Yes.E98_94_VoteCorrectCompare.tolist(), Violence98_No.E98_94_VoteCorrectCompare.tolist())"
   ]
  },
  {
   "cell_type": "code",
   "execution_count": null,
   "metadata": {},
   "outputs": [],
   "source": []
  }
 ],
 "metadata": {
  "kernelspec": {
   "display_name": "Python 3",
   "language": "python",
   "name": "python3"
  },
  "language_info": {
   "codemirror_mode": {
    "name": "ipython",
    "version": 3
   },
   "file_extension": ".py",
   "mimetype": "text/x-python",
   "name": "python",
   "nbconvert_exporter": "python",
   "pygments_lexer": "ipython3",
   "version": "3.7.4"
  }
 },
 "nbformat": 4,
 "nbformat_minor": 2
}
